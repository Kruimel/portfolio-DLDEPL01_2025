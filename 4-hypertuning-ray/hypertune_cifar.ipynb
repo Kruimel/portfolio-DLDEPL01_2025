{
 "cells": [
  {
   "cell_type": "markdown",
   "id": "62314dbc",
   "metadata": {},
   "source": [
    "# Hypertune cifar10"
   ]
  },
  {
   "cell_type": "code",
   "execution_count": 11,
   "id": "518083dc",
   "metadata": {},
   "outputs": [],
   "source": [
    "DATADIR = (\"data/raw/cifar10/\")"
   ]
  },
  {
   "cell_type": "code",
   "execution_count": 12,
   "id": "db2c8596",
   "metadata": {},
   "outputs": [
    {
     "name": "stderr",
     "output_type": "stream",
     "text": [
      "\u001b[32m2025-10-08 20:01:37.808\u001b[0m | \u001b[1mINFO    \u001b[0m | \u001b[36m__main__\u001b[0m:\u001b[36m<module>\u001b[0m:\u001b[36m18\u001b[0m - \u001b[1mDataset is now available:\n",
      "TRAIN: Dataset CIFAR10\n",
      "    Number of datapoints: 50000\n",
      "    Root location: /mnt/WORKSPACE/kiei_workspace/master/UOS3/portfolio-DLDEPL01_2025/4-hypertuning-ray/data/raw/cifar10\n",
      "    Split: Train\n",
      "    StandardTransform\n",
      "Transform: Compose(\n",
      "               ToTensor()\n",
      "           )\n",
      "TEST: Dataset CIFAR10\n",
      "    Number of datapoints: 10000\n",
      "    Root location: /mnt/WORKSPACE/kiei_workspace/master/UOS3/portfolio-DLDEPL01_2025/4-hypertuning-ray/data/raw/cifar10\n",
      "    Split: Test\n",
      "    StandardTransform\n",
      "Transform: Compose(\n",
      "               ToTensor()\n",
      "           )\u001b[0m\n"
     ]
    }
   ],
   "source": [
    "from torchvision import datasets, transforms\n",
    "from loguru import logger\n",
    "from pathlib import Path\n",
    "\n",
    "# Ensure the data directory exists before downloading dataset\n",
    "data_dir = Path(DATADIR).resolve()\n",
    "if not data_dir.exists():\n",
    "    data_dir.mkdir(parents=True)\n",
    "    logger.info(f\"Created {data_dir}\")\n",
    "\n",
    "# Create transformer to convert images to tensors\n",
    "transformer = transforms.Compose([transforms.ToTensor()])\n",
    "\n",
    "# Download CIFAR10 dataset\n",
    "train_dataset = datasets.CIFAR10(root=data_dir, train=True, download=True, transform=transformer)\n",
    "test_dataset = datasets.CIFAR10(root=data_dir, train=False, download=True, transform=transformer)\n",
    "\n",
    "logger.info(\n",
    "    f\"Dataset is now available:\\n\"\n",
    "    f\"TRAIN: {train_dataset}\\n\"\n",
    "    f\"TEST: {test_dataset}\"\n",
    ")"
   ]
  },
  {
   "cell_type": "code",
   "execution_count": 13,
   "id": "85bd31bb",
   "metadata": {},
   "outputs": [
    {
     "data": {
      "text/plain": [
       "['airplane',\n",
       " 'automobile',\n",
       " 'bird',\n",
       " 'cat',\n",
       " 'deer',\n",
       " 'dog',\n",
       " 'frog',\n",
       " 'horse',\n",
       " 'ship',\n",
       " 'truck']"
      ]
     },
     "execution_count": 13,
     "metadata": {},
     "output_type": "execute_result"
    }
   ],
   "source": [
    "train_dataset.classes"
   ]
  },
  {
   "cell_type": "code",
   "execution_count": 14,
   "id": "9d8454e9",
   "metadata": {},
   "outputs": [
    {
     "name": "stderr",
     "output_type": "stream",
     "text": [
      "\u001b[32m2025-10-08 20:01:37.834\u001b[0m | \u001b[1mINFO    \u001b[0m | \u001b[36m__main__\u001b[0m:\u001b[36m<module>\u001b[0m:\u001b[36m9\u001b[0m - \u001b[1mImage batch dimensions: torch.Size([64, 3, 32, 32])\u001b[0m\n",
      "\u001b[32m2025-10-08 20:01:37.834\u001b[0m | \u001b[1mINFO    \u001b[0m | \u001b[36m__main__\u001b[0m:\u001b[36m<module>\u001b[0m:\u001b[36m10\u001b[0m - \u001b[1mImage label dimensions: torch.Size([64])\u001b[0m\n"
     ]
    }
   ],
   "source": [
    "from torch.utils.data import DataLoader\n",
    "\n",
    "# Create data loaders for training and testing\n",
    "train_loader = DataLoader(train_dataset, batch_size=64, shuffle=True)\n",
    "test_loader = DataLoader(test_dataset, batch_size=64, shuffle=False)\n",
    "\n",
    "# Inspect the shape of a batch of training data\n",
    "for images, labels in train_loader:\n",
    "    logger.info(f\"Image batch dimensions: {images.shape}\")\n",
    "    logger.info(f\"Image label dimensions: {labels.shape}\")\n",
    "    break"
   ]
  },
  {
   "cell_type": "code",
   "execution_count": 27,
   "id": "c0ecbf9d",
   "metadata": {},
   "outputs": [],
   "source": [
    "import torch\n",
    "from mltrainer import metrics\n",
    "\n",
    "\n",
    "config = {\n",
    "    # Fixed parameters\n",
    "    \"epochs\": 5,\n",
    "    \"data_dir\": data_dir,\n",
    "    \"batch_size\": 64,\n",
    "    \"input_size\": 3,\n",
    "    \"output_size\": 20,\n",
    "    \"hidden_size\": 128,\n",
    "    \"dropout\": 0,\n",
    "    \"num_layers\": 3,\n",
    "    \"learning_rate\": 0.001,\n",
    "    \"loss_fn\": torch.nn.CrossEntropyLoss(), # suitable for multi-class classification\n",
    "    \"optimizer\": torch.optim.Adam,\n",
    "    # \"scheduler\": torch.optim.lr_scheduler.LRScheduler,\n",
    "    \"scheduler\": torch.optim.lr_scheduler.ReduceLROnPlateau,\n",
    "    \"metrics\" : metrics.Accuracy(), # Accuracy metric for classification\n",
    "}\n"
   ]
  },
  {
   "cell_type": "code",
   "execution_count": 16,
   "id": "dabab42f",
   "metadata": {},
   "outputs": [
    {
     "name": "stdout",
     "output_type": "stream",
     "text": [
      "==========================================================================================\n",
      "Layer (type:depth-idx)                   Output Shape              Param #\n",
      "==========================================================================================\n",
      "├─Flatten: 1-1                           [-1, 3072]                --\n",
      "├─Linear: 1-2                            [-1, 128]                 393,344\n",
      "├─ReLU: 1-3                              [-1, 128]                 --\n",
      "├─Dropout: 1-4                           [-1, 128]                 --\n",
      "├─Linear: 1-5                            [-1, 128]                 16,512\n",
      "├─ReLU: 1-6                              [-1, 128]                 --\n",
      "├─Dropout: 1-7                           [-1, 128]                 --\n",
      "├─Linear: 1-8                            [-1, 128]                 16,512\n",
      "├─ReLU: 1-9                              [-1, 128]                 --\n",
      "├─Dropout: 1-10                          [-1, 128]                 --\n",
      "├─Linear: 1-11                           [-1, 20]                  2,580\n",
      "==========================================================================================\n",
      "Total params: 428,948\n",
      "Trainable params: 428,948\n",
      "Non-trainable params: 0\n",
      "Total mult-adds (M): 0.43\n",
      "==========================================================================================\n",
      "Input size (MB): 0.01\n",
      "Forward/backward pass size (MB): 0.00\n",
      "Params size (MB): 1.64\n",
      "Estimated Total Size (MB): 1.65\n",
      "==========================================================================================\n"
     ]
    },
    {
     "data": {
      "text/plain": [
       "<bound method SimpleNN.summary of SimpleNN(\n",
       "  (network): Sequential(\n",
       "    (0): Flatten(start_dim=1, end_dim=-1)\n",
       "    (1): Linear(in_features=3072, out_features=128, bias=True)\n",
       "    (2): ReLU()\n",
       "    (3): Dropout(p=0, inplace=False)\n",
       "    (4): Linear(in_features=128, out_features=128, bias=True)\n",
       "    (5): ReLU()\n",
       "    (6): Dropout(p=0, inplace=False)\n",
       "    (7): Linear(in_features=128, out_features=128, bias=True)\n",
       "    (8): ReLU()\n",
       "    (9): Dropout(p=0, inplace=False)\n",
       "    (10): Linear(in_features=128, out_features=20, bias=True)\n",
       "  )\n",
       ")>"
      ]
     },
     "execution_count": 16,
     "metadata": {},
     "output_type": "execute_result"
    }
   ],
   "source": [
    "# Setup for simple neural network\n",
    "\n",
    "import torch.nn as nn\n",
    "from torchsummary import summary\n",
    "\n",
    "class SimpleNN(nn.Module):\n",
    "    def __init__(self, input_size, hidden_size, output_size, dropout, num_layers):\n",
    "        super(SimpleNN, self).__init__()\n",
    "        self.input_size = input_size\n",
    "\n",
    "        layers = []\n",
    "        layers.append(nn.Flatten())\n",
    "        layers.append(nn.Linear(input_size * 32 * 32, hidden_size))\n",
    "        layers.append(nn.ReLU())\n",
    "        layers.append(nn.Dropout(dropout))\n",
    "        \n",
    "        for _ in range(num_layers - 1):\n",
    "            layers.append(nn.Linear(hidden_size, hidden_size))\n",
    "            layers.append(nn.ReLU())\n",
    "            layers.append(nn.Dropout(dropout))\n",
    "        \n",
    "        layers.append(nn.Linear(hidden_size, output_size))\n",
    "        self.network = nn.Sequential(*layers)\n",
    "\n",
    "    def forward(self, x):\n",
    "        return self.network(x) \n",
    "\n",
    "    def summary(self):\n",
    "        summary(self.network, (self.input_size, 32, 32))\n",
    "\n",
    "model_NN = SimpleNN(\n",
    "    input_size=config[\"input_size\"],\n",
    "    hidden_size=config[\"hidden_size\"],\n",
    "    output_size=config[\"output_size\"],\n",
    "    dropout=config[\"dropout\"],\n",
    "    num_layers=config[\"num_layers\"]\n",
    ")\n",
    "\n",
    "# Show a summary of the model architecture\n",
    "model_NN.summary(); model_NN.summary"
   ]
  },
  {
   "cell_type": "code",
   "execution_count": 33,
   "id": "3ace8f60",
   "metadata": {},
   "outputs": [
    {
     "name": "stderr",
     "output_type": "stream",
     "text": [
      "\u001b[32m2025-10-08 20:14:18.140\u001b[0m | \u001b[1mINFO    \u001b[0m | \u001b[36m__main__\u001b[0m:\u001b[36m<module>\u001b[0m:\u001b[36m45\u001b[0m - \u001b[1mEpoch [1/5], Train Loss: 1.1860, Test Loss: 1.4413, Images Analysed: 50000\u001b[0m\n",
      "\u001b[32m2025-10-08 20:14:21.370\u001b[0m | \u001b[1mINFO    \u001b[0m | \u001b[36m__main__\u001b[0m:\u001b[36m<module>\u001b[0m:\u001b[36m45\u001b[0m - \u001b[1mEpoch [2/5], Train Loss: 1.1711, Test Loss: 1.4196, Images Analysed: 100000\u001b[0m\n",
      "\u001b[32m2025-10-08 20:14:24.595\u001b[0m | \u001b[1mINFO    \u001b[0m | \u001b[36m__main__\u001b[0m:\u001b[36m<module>\u001b[0m:\u001b[36m45\u001b[0m - \u001b[1mEpoch [3/5], Train Loss: 1.1601, Test Loss: 1.4098, Images Analysed: 150000\u001b[0m\n",
      "\u001b[32m2025-10-08 20:14:27.810\u001b[0m | \u001b[1mINFO    \u001b[0m | \u001b[36m__main__\u001b[0m:\u001b[36m<module>\u001b[0m:\u001b[36m45\u001b[0m - \u001b[1mEpoch [4/5], Train Loss: 1.1512, Test Loss: 1.4430, Images Analysed: 200000\u001b[0m\n",
      "\u001b[32m2025-10-08 20:14:31.037\u001b[0m | \u001b[1mINFO    \u001b[0m | \u001b[36m__main__\u001b[0m:\u001b[36m<module>\u001b[0m:\u001b[36m45\u001b[0m - \u001b[1mEpoch [5/5], Train Loss: 1.1368, Test Loss: 1.4280, Images Analysed: 250000\u001b[0m\n",
      "\u001b[32m2025-10-08 20:14:31.432\u001b[0m | \u001b[1mINFO    \u001b[0m | \u001b[36m__main__\u001b[0m:\u001b[36m<module>\u001b[0m:\u001b[36m59\u001b[0m - \u001b[1mTest Accuracy: 50.55%\u001b[0m\n"
     ]
    }
   ],
   "source": [
    "# Train the model\n",
    "\n",
    "import torch.optim as optim\n",
    "import torch.nn.functional as F\n",
    "import torch\n",
    "\n",
    "# Define device\n",
    "device = torch.device(\"cuda\" if torch.cuda.is_available() else \"cpu\")\n",
    "model_NN.to(device)\n",
    "\n",
    "# Train model_NN\n",
    "optimizer = config[\"optimizer\"](model_NN.parameters(), lr=config[\"learning_rate\"])\n",
    "loss_fn = config[\"loss_fn\"]\n",
    "num_epochs = config[\"epochs\"]\n",
    "\n",
    "train_loader = DataLoader(train_dataset, batch_size=config[\"batch_size\"], shuffle=True)\n",
    "test_loader = DataLoader(test_dataset, batch_size=config[\"batch_size\"], shuffle=False)\n",
    "for epoch in range(num_epochs):\n",
    "    model_NN.train()\n",
    "    running_loss = 0.0\n",
    "    for images, labels in train_loader:\n",
    "        images, labels = images.to(device), labels.to(device)\n",
    "        \n",
    "        optimizer.zero_grad()\n",
    "        outputs = model_NN(images)\n",
    "        loss = loss_fn(outputs, labels)\n",
    "        loss.backward()\n",
    "        optimizer.step()\n",
    "        \n",
    "        running_loss += loss.item()\n",
    "\n",
    "    # Calculate average loss over an epoch\n",
    "    avg_loss = running_loss / len(train_loader)\n",
    "    # Calculate test loss after each epoch\n",
    "    model_NN.eval()\n",
    "    test_loss = 0.0\n",
    "    with torch.no_grad():\n",
    "        for images, labels in test_loader:\n",
    "            images, labels = images.to(device), labels.to(device)\n",
    "            outputs = model_NN(images)\n",
    "            loss = loss_fn(outputs, labels)\n",
    "            test_loss += loss.item()\n",
    "    test_loss /= len(test_loader)\n",
    "\n",
    "    logger.info(f\"Epoch [{epoch+1}/{num_epochs}], Train Loss: {avg_loss:.4f}, Test Loss: {test_loss:.4f}, Images Analysed: {(epoch+1)*len(train_loader.dataset)}\")\n",
    "\n",
    "# Evaluate the model\n",
    "model_NN.eval()\n",
    "with torch.no_grad():\n",
    "    correct = 0\n",
    "    total = 0\n",
    "    for images, labels in test_loader:\n",
    "        images, labels = images.to(device), labels.to(device)\n",
    "        outputs = model_NN(images)\n",
    "        _, predicted = torch.max(outputs.data, 1)\n",
    "        total += labels.size(0)\n",
    "        correct += (predicted == labels).sum().item()\n",
    "    accuracy = 100 * correct / total\n",
    "    logger.info(f\"Test Accuracy: {accuracy:.2f}%\")\n",
    "\n"
   ]
  },
  {
   "cell_type": "code",
   "execution_count": 30,
   "id": "8a2783ae",
   "metadata": {},
   "outputs": [
    {
     "name": "stderr",
     "output_type": "stream",
     "text": [
      "\u001b[32m2025-10-08 20:07:34.184\u001b[0m | \u001b[1mINFO    \u001b[0m | \u001b[36mmltrainer.trainer\u001b[0m:\u001b[36mdir_add_timestamp\u001b[0m:\u001b[36m24\u001b[0m - \u001b[1mLogging to logs/20251008-200734\u001b[0m\n",
      "\u001b[32m2025-10-08 20:07:34.190\u001b[0m | \u001b[1mINFO    \u001b[0m | \u001b[36mmltrainer.trainer\u001b[0m:\u001b[36m__init__\u001b[0m:\u001b[36m68\u001b[0m - \u001b[1mFound earlystop_kwargs in settings.Set to None if you dont want earlystopping.\u001b[0m\n",
      "100%|\u001b[38;2;30;71;6m██████████\u001b[0m| 782/782 [00:07<00:00, 106.78it/s]\n",
      "\u001b[32m2025-10-08 20:07:42.741\u001b[0m | \u001b[1mINFO    \u001b[0m | \u001b[36mmltrainer.trainer\u001b[0m:\u001b[36mreport\u001b[0m:\u001b[36m209\u001b[0m - \u001b[1mEpoch 0 train 1.8887 test 1.6531 metric ['0.3281']\u001b[0m\n",
      "100%|\u001b[38;2;30;71;6m██████████\u001b[0m| 782/782 [00:09<00:00, 84.14it/s]\n",
      "\u001b[32m2025-10-08 20:07:52.831\u001b[0m | \u001b[1mINFO    \u001b[0m | \u001b[36mmltrainer.trainer\u001b[0m:\u001b[36mreport\u001b[0m:\u001b[36m209\u001b[0m - \u001b[1mEpoch 1 train 1.6813 test 1.5538 metric ['0.4375']\u001b[0m\n",
      "100%|\u001b[38;2;30;71;6m██████████\u001b[0m| 782/782 [00:15<00:00, 51.17it/s]\n",
      "\u001b[32m2025-10-08 20:08:10.456\u001b[0m | \u001b[1mINFO    \u001b[0m | \u001b[36mmltrainer.trainer\u001b[0m:\u001b[36mreport\u001b[0m:\u001b[36m209\u001b[0m - \u001b[1mEpoch 2 train 1.5952 test 1.5232 metric ['0.4219']\u001b[0m\n",
      "100%|\u001b[38;2;30;71;6m██████████\u001b[0m| 782/782 [00:19<00:00, 41.07it/s]\n",
      "\u001b[32m2025-10-08 20:08:32.030\u001b[0m | \u001b[1mINFO    \u001b[0m | \u001b[36mmltrainer.trainer\u001b[0m:\u001b[36mreport\u001b[0m:\u001b[36m209\u001b[0m - \u001b[1mEpoch 3 train 1.5304 test 1.4781 metric ['0.4375']\u001b[0m\n",
      "100%|\u001b[38;2;30;71;6m██████████\u001b[0m| 782/782 [00:20<00:00, 38.72it/s]\n",
      "\u001b[32m2025-10-08 20:08:55.188\u001b[0m | \u001b[1mINFO    \u001b[0m | \u001b[36mmltrainer.trainer\u001b[0m:\u001b[36mreport\u001b[0m:\u001b[36m209\u001b[0m - \u001b[1mEpoch 4 train 1.4956 test 1.4679 metric ['0.4219']\u001b[0m\n",
      "100%|\u001b[38;2;30;71;6m██████████\u001b[0m| 5/5 [01:20<00:00, 16.20s/it]\n"
     ]
    }
   ],
   "source": [
    "from mltrainer import Trainer, ReportTypes, TrainerSettings\n",
    "\n",
    "model_NN2 = SimpleNN(\n",
    "    input_size=config[\"input_size\"],\n",
    "    hidden_size=config[\"hidden_size\"],\n",
    "    output_size=config[\"output_size\"],\n",
    "    dropout=config[\"dropout\"],\n",
    "    num_layers=config[\"num_layers\"]\n",
    ")\n",
    "\n",
    "model_NN2.to(device)\n",
    "\n",
    "trainer = Trainer(\n",
    "    model=model_NN2,\n",
    "    settings=TrainerSettings(\n",
    "        epochs=config[\"epochs\"],\n",
    "        metrics=[config[\"metrics\"]],\n",
    "        logdir=Path(\"./logs\"),\n",
    "        train_steps=len(train_loader),\n",
    "        valid_steps=len(test_loader),\n",
    "        reporttypes=[ReportTypes.TOML],\n",
    "        scheduler_kwargs={\"patience\": 5},\n",
    "        earlystop_kwargs={\"patience\": 5},\n",
    "    ),\n",
    "    loss_fn=config[\"loss_fn\"],\n",
    "    optimizer=torch.optim.Adam,\n",
    "    traindataloader=train_loader,\n",
    "    validdataloader=test_loader,\n",
    "    scheduler=config[\"scheduler\"],\n",
    "    device=device,\n",
    ")\n",
    "trainer.loop()"
   ]
  }
 ],
 "metadata": {
  "kernelspec": {
   "display_name": "portfolio-example",
   "language": "python",
   "name": "python3"
  },
  "language_info": {
   "codemirror_mode": {
    "name": "ipython",
    "version": 3
   },
   "file_extension": ".py",
   "mimetype": "text/x-python",
   "name": "python",
   "nbconvert_exporter": "python",
   "pygments_lexer": "ipython3",
   "version": "3.12.9"
  }
 },
 "nbformat": 4,
 "nbformat_minor": 5
}
